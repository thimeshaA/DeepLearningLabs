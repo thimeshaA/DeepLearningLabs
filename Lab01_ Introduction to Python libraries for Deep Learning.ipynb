{
  "nbformat": 4,
  "nbformat_minor": 0,
  "metadata": {
    "colab": {
      "provenance": [],
      "toc_visible": true,
      "authorship_tag": "ABX9TyPEukVhnldpg1eAEBmUXd9b",
      "include_colab_link": true
    },
    "kernelspec": {
      "name": "python3",
      "display_name": "Python 3"
    },
    "language_info": {
      "name": "python"
    }
  },
  "cells": [
    {
      "cell_type": "markdown",
      "metadata": {
        "id": "view-in-github",
        "colab_type": "text"
      },
      "source": [
        "<a href=\"https://colab.research.google.com/github/thimeshaA/DeepLearningLabs/blob/main/Lab01_%20Introduction%20to%20Python%20libraries%20for%20Deep%20Learning.ipynb\" target=\"_parent\"><img src=\"https://colab.research.google.com/assets/colab-badge.svg\" alt=\"Open In Colab\"/></a>"
      ]
    },
    {
      "cell_type": "code",
      "execution_count": null,
      "metadata": {
        "colab": {
          "base_uri": "https://localhost:8080/"
        },
        "id": "qeVywZGxyCXV",
        "outputId": "e0a9f70d-e53a-4e35-c56b-dffde5d52f9a"
      },
      "outputs": [
        {
          "output_type": "stream",
          "name": "stdout",
          "text": [
            "[[2.51306297 0.91963025 0.67010506 0.83818394]\n",
            " [0.1107429  1.65484967 0.19606774 3.02558169]\n",
            " [1.36261446 2.13788384 0.0898741  1.85827269]\n",
            " [0.42371958 1.76998347 0.48660452 0.68551053]]\n"
          ]
        }
      ],
      "source": [
        "\n",
        "import numpy as np\n",
        "array = np.random.exponential(scale=1.0, size=(4, 4))\n",
        "print (array)"
      ]
    }
  ]
}